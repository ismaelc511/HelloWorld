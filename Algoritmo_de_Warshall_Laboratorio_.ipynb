{
  "nbformat": 4,
  "nbformat_minor": 0,
  "metadata": {
    "colab": {
      "name": "Algoritmo de Warshall - Laboratorio .ipynb",
      "provenance": [],
      "authorship_tag": "ABX9TyMHNupF7y04cS4EaOltYJiz",
      "include_colab_link": true
    },
    "kernelspec": {
      "name": "python3",
      "display_name": "Python 3"
    },
    "language_info": {
      "name": "python"
    }
  },
  "cells": [
    {
      "cell_type": "markdown",
      "metadata": {
        "id": "view-in-github",
        "colab_type": "text"
      },
      "source": [
        "<a href=\"https://colab.research.google.com/github/ismaelc511/HelloWorld/blob/main/Algoritmo_de_Warshall_Laboratorio_.ipynb\" target=\"_parent\"><img src=\"https://colab.research.google.com/assets/colab-badge.svg\" alt=\"Open In Colab\"/></a>"
      ]
    },
    {
      "cell_type": "code",
      "execution_count": 1,
      "metadata": {
        "id": "WZ4HCIRYVOO-"
      },
      "outputs": [],
      "source": [
        "W=[[0, 1, 1, 0], [1, 0, 1, 1], [1, 0, 0, 1], [0, 1, 1, 0]]"
      ]
    },
    {
      "cell_type": "code",
      "source": [
        "for k in range(4):\n",
        "  print('W[{}]'.format(k+1))\n",
        "  for i in range(4):\n",
        "    for j in range(4):\n",
        "      W[i][j] = W[i][j] or (W[i][k] and W[k][j])\n",
        "    print (W[i])"
      ],
      "metadata": {
        "colab": {
          "base_uri": "https://localhost:8080/"
        },
        "id": "F__pAWXXY245",
        "outputId": "eab57ede-42c0-4c7c-8115-39550d17ac07"
      },
      "execution_count": 2,
      "outputs": [
        {
          "output_type": "stream",
          "name": "stdout",
          "text": [
            "W[1]\n",
            "[0, 1, 1, 0]\n",
            "[1, 1, 1, 1]\n",
            "[1, 1, 1, 1]\n",
            "[0, 1, 1, 0]\n",
            "W[2]\n",
            "[1, 1, 1, 1]\n",
            "[1, 1, 1, 1]\n",
            "[1, 1, 1, 1]\n",
            "[1, 1, 1, 1]\n",
            "W[3]\n",
            "[1, 1, 1, 1]\n",
            "[1, 1, 1, 1]\n",
            "[1, 1, 1, 1]\n",
            "[1, 1, 1, 1]\n",
            "W[4]\n",
            "[1, 1, 1, 1]\n",
            "[1, 1, 1, 1]\n",
            "[1, 1, 1, 1]\n",
            "[1, 1, 1, 1]\n"
          ]
        }
      ]
    }
  ]
}